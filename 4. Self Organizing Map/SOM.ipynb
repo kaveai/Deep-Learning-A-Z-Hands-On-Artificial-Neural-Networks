{
 "cells": [
  {
   "cell_type": "markdown",
   "metadata": {},
   "source": [
    "# Fraud Detection using Self Organizing Map"
   ]
  },
  {
   "cell_type": "code",
   "execution_count": null,
   "metadata": {},
   "outputs": [],
   "source": [
    "\"\"\"\n",
    "Fraud Detection:\n",
    "\n",
    "Imagine we are deep learning scientist working for bank and we are given a data set\n",
    "that contains information of customers from this bank applying for advanced\n",
    "credit card.\n",
    "\n",
    "So basically, these informations are the data that customers had to provide\n",
    "when filling the application form.\n",
    "\n",
    "Our mission is to detect potential fraud within these applications.\n",
    "\n",
    "We have to give explicit list, of the customers who potentially cheated.\n",
    "\n",
    "we will not make a supervised deep learning model and try to predict if each\n",
    "customer potentially cheated; yes or no with a dependent variable that has binary\n",
    "values.\n",
    "\n",
    "we need to identify some patterns in a high dimensional data sets that have\n",
    "non-linear relationships. And one of these patterns(customers) will be \n",
    "the potential fraud. That is the customers who potentially cheated.\n",
    "\n",
    "We have to return the potential fraudulent customers. <-- unsupervised learning.\n",
    "\"\"\""
   ]
  },
  {
   "cell_type": "code",
   "execution_count": 1,
   "metadata": {},
   "outputs": [],
   "source": [
    "# Importing the libraries\n",
    "\n",
    "import numpy as np\n",
    "\n",
    "import pandas as pd\n",
    "\n",
    "import matplotlib.pyplot as plt"
   ]
  },
  {
   "cell_type": "code",
   "execution_count": null,
   "metadata": {},
   "outputs": [],
   "source": [
    "\"\"\"\n",
    "This file concerns credit card applications. All attribute names and values have \n",
    "been changed to meaningless symbols to protect confidentiality of the data.\n",
    "\n",
    "This dataset is interesting because there is a good mix of attributes -- continuous, \n",
    "nominal with small numbers of values, and nominal with larger numbers of values. \n",
    "There are also a few missing values.\n",
    "\"\"\""
   ]
  },
  {
   "cell_type": "code",
   "execution_count": 2,
   "metadata": {},
   "outputs": [
    {
     "data": {
      "text/html": [
       "<div>\n",
       "<style scoped>\n",
       "    .dataframe tbody tr th:only-of-type {\n",
       "        vertical-align: middle;\n",
       "    }\n",
       "\n",
       "    .dataframe tbody tr th {\n",
       "        vertical-align: top;\n",
       "    }\n",
       "\n",
       "    .dataframe thead th {\n",
       "        text-align: right;\n",
       "    }\n",
       "</style>\n",
       "<table border=\"1\" class=\"dataframe\">\n",
       "  <thead>\n",
       "    <tr style=\"text-align: right;\">\n",
       "      <th></th>\n",
       "      <th>CustomerID</th>\n",
       "      <th>A1</th>\n",
       "      <th>A2</th>\n",
       "      <th>A3</th>\n",
       "      <th>A4</th>\n",
       "      <th>A5</th>\n",
       "      <th>A6</th>\n",
       "      <th>A7</th>\n",
       "      <th>A8</th>\n",
       "      <th>A9</th>\n",
       "      <th>A10</th>\n",
       "      <th>A11</th>\n",
       "      <th>A12</th>\n",
       "      <th>A13</th>\n",
       "      <th>A14</th>\n",
       "      <th>Class</th>\n",
       "    </tr>\n",
       "  </thead>\n",
       "  <tbody>\n",
       "    <tr>\n",
       "      <td>0</td>\n",
       "      <td>15776156</td>\n",
       "      <td>1</td>\n",
       "      <td>22.08</td>\n",
       "      <td>11.46</td>\n",
       "      <td>2</td>\n",
       "      <td>4</td>\n",
       "      <td>4</td>\n",
       "      <td>1.585</td>\n",
       "      <td>0</td>\n",
       "      <td>0</td>\n",
       "      <td>0</td>\n",
       "      <td>1</td>\n",
       "      <td>2</td>\n",
       "      <td>100</td>\n",
       "      <td>1213</td>\n",
       "      <td>0</td>\n",
       "    </tr>\n",
       "    <tr>\n",
       "      <td>1</td>\n",
       "      <td>15739548</td>\n",
       "      <td>0</td>\n",
       "      <td>22.67</td>\n",
       "      <td>7.00</td>\n",
       "      <td>2</td>\n",
       "      <td>8</td>\n",
       "      <td>4</td>\n",
       "      <td>0.165</td>\n",
       "      <td>0</td>\n",
       "      <td>0</td>\n",
       "      <td>0</td>\n",
       "      <td>0</td>\n",
       "      <td>2</td>\n",
       "      <td>160</td>\n",
       "      <td>1</td>\n",
       "      <td>0</td>\n",
       "    </tr>\n",
       "    <tr>\n",
       "      <td>2</td>\n",
       "      <td>15662854</td>\n",
       "      <td>0</td>\n",
       "      <td>29.58</td>\n",
       "      <td>1.75</td>\n",
       "      <td>1</td>\n",
       "      <td>4</td>\n",
       "      <td>4</td>\n",
       "      <td>1.250</td>\n",
       "      <td>0</td>\n",
       "      <td>0</td>\n",
       "      <td>0</td>\n",
       "      <td>1</td>\n",
       "      <td>2</td>\n",
       "      <td>280</td>\n",
       "      <td>1</td>\n",
       "      <td>0</td>\n",
       "    </tr>\n",
       "    <tr>\n",
       "      <td>3</td>\n",
       "      <td>15687688</td>\n",
       "      <td>0</td>\n",
       "      <td>21.67</td>\n",
       "      <td>11.50</td>\n",
       "      <td>1</td>\n",
       "      <td>5</td>\n",
       "      <td>3</td>\n",
       "      <td>0.000</td>\n",
       "      <td>1</td>\n",
       "      <td>1</td>\n",
       "      <td>11</td>\n",
       "      <td>1</td>\n",
       "      <td>2</td>\n",
       "      <td>0</td>\n",
       "      <td>1</td>\n",
       "      <td>1</td>\n",
       "    </tr>\n",
       "    <tr>\n",
       "      <td>4</td>\n",
       "      <td>15715750</td>\n",
       "      <td>1</td>\n",
       "      <td>20.17</td>\n",
       "      <td>8.17</td>\n",
       "      <td>2</td>\n",
       "      <td>6</td>\n",
       "      <td>4</td>\n",
       "      <td>1.960</td>\n",
       "      <td>1</td>\n",
       "      <td>1</td>\n",
       "      <td>14</td>\n",
       "      <td>0</td>\n",
       "      <td>2</td>\n",
       "      <td>60</td>\n",
       "      <td>159</td>\n",
       "      <td>1</td>\n",
       "    </tr>\n",
       "  </tbody>\n",
       "</table>\n",
       "</div>"
      ],
      "text/plain": [
       "   CustomerID  A1     A2     A3  A4  A5  A6     A7  A8  A9  A10  A11  A12  \\\n",
       "0    15776156   1  22.08  11.46   2   4   4  1.585   0   0    0    1    2   \n",
       "1    15739548   0  22.67   7.00   2   8   4  0.165   0   0    0    0    2   \n",
       "2    15662854   0  29.58   1.75   1   4   4  1.250   0   0    0    1    2   \n",
       "3    15687688   0  21.67  11.50   1   5   3  0.000   1   1   11    1    2   \n",
       "4    15715750   1  20.17   8.17   2   6   4  1.960   1   1   14    0    2   \n",
       "\n",
       "   A13   A14  Class  \n",
       "0  100  1213      0  \n",
       "1  160     1      0  \n",
       "2  280     1      0  \n",
       "3    0     1      1  \n",
       "4   60   159      1  "
      ]
     },
     "execution_count": 2,
     "metadata": {},
     "output_type": "execute_result"
    }
   ],
   "source": [
    "# Importing the dataset\n",
    "\n",
    "dataset = pd.read_csv('Credit_Card_Applications.csv')\n",
    "\n",
    "df      = dataset.copy()\n",
    "\n",
    "df.head()"
   ]
  },
  {
   "cell_type": "code",
   "execution_count": 3,
   "metadata": {},
   "outputs": [],
   "source": [
    "X = df.iloc[:, :-1].values\n",
    "\n",
    "y = df.iloc[:, -1].values"
   ]
  },
  {
   "cell_type": "code",
   "execution_count": 4,
   "metadata": {},
   "outputs": [
    {
     "data": {
      "text/plain": [
       "array([[1.5776156e+07, 1.0000000e+00, 2.2080000e+01, 1.1460000e+01,\n",
       "        2.0000000e+00, 4.0000000e+00, 4.0000000e+00, 1.5850000e+00,\n",
       "        0.0000000e+00, 0.0000000e+00, 0.0000000e+00, 1.0000000e+00,\n",
       "        2.0000000e+00, 1.0000000e+02, 1.2130000e+03],\n",
       "       [1.5739548e+07, 0.0000000e+00, 2.2670000e+01, 7.0000000e+00,\n",
       "        2.0000000e+00, 8.0000000e+00, 4.0000000e+00, 1.6500000e-01,\n",
       "        0.0000000e+00, 0.0000000e+00, 0.0000000e+00, 0.0000000e+00,\n",
       "        2.0000000e+00, 1.6000000e+02, 1.0000000e+00],\n",
       "       [1.5662854e+07, 0.0000000e+00, 2.9580000e+01, 1.7500000e+00,\n",
       "        1.0000000e+00, 4.0000000e+00, 4.0000000e+00, 1.2500000e+00,\n",
       "        0.0000000e+00, 0.0000000e+00, 0.0000000e+00, 1.0000000e+00,\n",
       "        2.0000000e+00, 2.8000000e+02, 1.0000000e+00],\n",
       "       [1.5687688e+07, 0.0000000e+00, 2.1670000e+01, 1.1500000e+01,\n",
       "        1.0000000e+00, 5.0000000e+00, 3.0000000e+00, 0.0000000e+00,\n",
       "        1.0000000e+00, 1.0000000e+00, 1.1000000e+01, 1.0000000e+00,\n",
       "        2.0000000e+00, 0.0000000e+00, 1.0000000e+00],\n",
       "       [1.5715750e+07, 1.0000000e+00, 2.0170000e+01, 8.1700000e+00,\n",
       "        2.0000000e+00, 6.0000000e+00, 4.0000000e+00, 1.9600000e+00,\n",
       "        1.0000000e+00, 1.0000000e+00, 1.4000000e+01, 0.0000000e+00,\n",
       "        2.0000000e+00, 6.0000000e+01, 1.5900000e+02]])"
      ]
     },
     "execution_count": 4,
     "metadata": {},
     "output_type": "execute_result"
    }
   ],
   "source": [
    "X[:5]"
   ]
  },
  {
   "cell_type": "code",
   "execution_count": 5,
   "metadata": {},
   "outputs": [
    {
     "data": {
      "text/plain": [
       "array([0, 0, 0, 1, 1, 1, 0, 1, 0, 0], dtype=int64)"
      ]
     },
     "execution_count": 5,
     "metadata": {},
     "output_type": "execute_result"
    }
   ],
   "source": [
    "y[:10]"
   ]
  },
  {
   "cell_type": "code",
   "execution_count": null,
   "metadata": {},
   "outputs": [],
   "source": [
    "\"\"\"\n",
    "for each customer, the winning node is the most similar neuron to the customer, then, \n",
    "we use a neighborhood function like the galch neighborhood function,\n",
    "to update the weight of the neighbors of the winning node to move them closer to \n",
    "the point. We do this for all the customers in the input space.\n",
    "\n",
    "So we'll repeat that again. We'll repeat all this many times.\n",
    "And each time we'll repeat it, the output space decreases and loses dimensions.\n",
    "\n",
    "It reduces its dimension little by little. And then it reaches a point where \n",
    "the neighborhood stops decreasing, where the output space stops decreasing.\n",
    "\n",
    "And that's the moment where we obtained our self organizing map in two dimensions\n",
    "with all the winning nodes that were eventually identified.\n",
    "\n",
    "when we think about frauds, we think about outliers because the fraud basically is\n",
    "defined by something that is far from the general rules. So the frauds are actually\n",
    "the outlying neurons for self-organizing map.\n",
    "\n",
    "To detect the outline neurons, we need MID(Mean Interneuron Distance).\n",
    "\n",
    "we're going to compute the mean of the Euclidean distance between this neuron \n",
    "and the neurons in its neighborhood.\n",
    "\"\"\""
   ]
  },
  {
   "cell_type": "code",
   "execution_count": 6,
   "metadata": {},
   "outputs": [],
   "source": [
    "# Feature Scaling\n",
    "\n",
    "from sklearn.preprocessing import MinMaxScaler\n",
    "\n",
    "sc = MinMaxScaler(feature_range = (0, 1))\n",
    "\n",
    "X = sc.fit_transform(X)"
   ]
  },
  {
   "cell_type": "code",
   "execution_count": null,
   "metadata": {},
   "outputs": [],
   "source": [
    "\"\"\"\n",
    "x and y are the dimensions of the grid to self-organizing map.\n",
    "dimensions must not be too small because we want to get the outliers\n",
    "in evidence. Therefore we need a bigger map to detect outliers easily.\n",
    "\n",
    "input_len : len(columns of the X)\n",
    "\n",
    "sigma is the radius of the different neighborhoods in the grid.\n",
    "\"\"\""
   ]
  },
  {
   "cell_type": "code",
   "execution_count": 14,
   "metadata": {},
   "outputs": [],
   "source": [
    "# Training the SOM\n",
    "\n",
    "from minisom import MiniSom\n",
    "\n",
    "som = MiniSom(x = 10, y = 10, input_len = 15, sigma = 1.0, learning_rate = 0.5)\n",
    "\n",
    "som.random_weights_init(X) # to initialize the weights randomly.\n",
    "\n",
    "som.train_random(data = X, num_iteration = 100) # to train SOM."
   ]
  },
  {
   "cell_type": "code",
   "execution_count": null,
   "metadata": {},
   "outputs": [],
   "source": [
    "\"\"\"\n",
    "basically, if MID is higher, then the winning node will be far away from it's \n",
    "neighbors. (Inside a neighborhood.) Therefore; higher the MID, the more the winning \n",
    "node is an outlier.\n",
    "\n",
    "winning notes will be colored by different colors in such a way that the larger is \n",
    "the MID, the closer to white the color will be.\n",
    "\"\"\""
   ]
  },
  {
   "cell_type": "code",
   "execution_count": null,
   "metadata": {},
   "outputs": [],
   "source": [
    "\"\"\"\n",
    "we actually identified the outlier(fraud) in below.\n",
    "\n",
    "to get the explicit list of the customers, we just need to the inverse mapping\n",
    "of these winning nodes to see which customers are associated to this winning node.\n",
    "\n",
    "also, we can add some markers to detect them in the map easily!\n",
    "\"\"\""
   ]
  },
  {
   "cell_type": "code",
   "execution_count": 15,
   "metadata": {},
   "outputs": [
    {
     "data": {
      "image/png": "[encoded data removed]",
      "text/plain": [
       "<Figure size 432x288 with 2 Axes>"
      ]
     },
     "metadata": {
      "needs_background": "light"
     },
     "output_type": "display_data"
    }
   ],
   "source": [
    "# Visualizing the results\n",
    "\n",
    "from pylab import bone, pcolor, colorbar, plot, show\n",
    "\n",
    "bone()                        # this is the window that will contain the map.\n",
    "pcolor(som.distance_map().T)  # all the different colors corresponding to the MID's.\n",
    "colorbar()                    # white colors are the outliers (frauds).\n",
    "markers = ['o', 's']          # red circles(r, o) : the customers who didn't get approval.\n",
    "colors  = ['r', 'g']          # green squares(g, s) : the customers who got approval.\n",
    "for i, j in enumerate(X):     # i : indexes, j : all the vectors of customers at i.\n",
    "    w = som.winner(j)         # winning node.\n",
    "    plot(w[0] + 0.5,          # we want to put the marker at the center of the square.\n",
    "         w[1] + 0.5,          # we want to put the marker at the center of the square.\n",
    "         markers[y[i]],\n",
    "         markeredgecolor = colors[y[i]],\n",
    "         markerfacecolor = 'None',\n",
    "         markersize = 10,\n",
    "         markeredgewidth = 2)\n",
    "show()"
   ]
  },
  {
   "cell_type": "code",
   "execution_count": 16,
   "metadata": {},
   "outputs": [],
   "source": [
    "# Finding the frauds\n",
    "\n",
    "mappings = som.win_map(X)\n",
    "\n",
    "# frauds   = np.concatenate((mappings[(4, 2)], mappings[(7, 3)]), axis = 0)\n",
    "\n",
    "frauds   = np.array(mappings[(2, 1)])\n",
    "\n",
    "frauds   = sc.inverse_transform(frauds)"
   ]
  },
  {
   "cell_type": "code",
   "execution_count": 17,
   "metadata": {},
   "outputs": [
    {
     "data": {
      "text/plain": [
       "array([[15651868.],\n",
       "       [15716082.],\n",
       "       [15651460.],\n",
       "       [15672637.],\n",
       "       [15769548.],\n",
       "       [15752344.],\n",
       "       [15736533.],\n",
       "       [15673907.],\n",
       "       [15779207.],\n",
       "       [15611409.],\n",
       "       [15792107.],\n",
       "       [15636454.],\n",
       "       [15615296.]])"
      ]
     },
     "execution_count": 17,
     "metadata": {},
     "output_type": "execute_result"
    }
   ],
   "source": [
    "frauds[:, 0:1] # frauds id's"
   ]
  },
  {
   "cell_type": "markdown",
   "metadata": {},
   "source": [
    "-----------"
   ]
  }
 ],
 "metadata": {
  "kernelspec": {
   "display_name": "Python 3",
   "language": "python",
   "name": "python3"
  },
  "language_info": {
   "codemirror_mode": {
    "name": "ipython",
    "version": 3
   },
   "file_extension": ".py",
   "mimetype": "text/x-python",
   "name": "python",
   "nbconvert_exporter": "python",
   "pygments_lexer": "ipython3",
   "version": "3.7.4"
  }
 },
 "nbformat": 4,
 "nbformat_minor": 4
}
